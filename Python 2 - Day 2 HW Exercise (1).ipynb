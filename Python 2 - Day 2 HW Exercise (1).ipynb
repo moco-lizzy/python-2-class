{
 "cells": [
  {
   "cell_type": "markdown",
   "metadata": {},
   "source": [
    "# OOP - Composition, Encapsulation, & Inheritance"
   ]
  },
  {
   "cell_type": "markdown",
   "metadata": {},
   "source": [
    "## Exercise 1: \n",
    "Create a Temperature Converter program using OOP by creating a Temperature class with two private attributes to store Fahrenheit and Celsius degrees. In the Temperature class, define methods that \n",
    "- sets the private attributes. When you set one unit of temperature, it should calculate and set the other unit of temperature. For example, when you set degrees in Fahrenheit, it should calculate and set in Celsius degrees. \n",
    "- gets the hidden attributes that round the number to 2 decimal places. \n",
    "\n",
    "The output should look something like following:\n",
    "\n",
    "    MENU\n",
    "    1. Fahrenheit to Celsius\n",
    "    2. Celsius to Fahrenheit\n",
    "    3. Quit\n",
    "    \n",
    "    Enter a menu option: 1\n",
    "    Enter degrees in Fahrenheit: 99\n",
    "    99.00 oF is 37.22 oC.\n",
    "    \n",
    "    Enter a menu option: 2\n",
    "    Enter degrees in Celsius: 37.22\n",
    "    37.22 oC is 99.00 oF.\n",
    "    \n",
    "    Enter a menu option: 3\n",
    "    Bye\n"
   ]
  },
  {
   "cell_type": "code",
   "execution_count": 1,
   "metadata": {},
   "outputs": [],
   "source": [
    "class Temp:\n",
    "    def __init__(self, degree, temp):\n",
    "        while degree != 1 and degree != 2:\n",
    "            degree = int(input(\"Please enter valid degree value, F is 1, C is 2\"))\n",
    "            if degree == 1 or degree == 2:\n",
    "                break\n",
    "        self.__degree = degree\n",
    "        self.__temp = temp\n",
    "    def FtoC(self):\n",
    "        if self.__degree == 1:\n",
    "            return round((self.__temp -32) *.5556, 2)\n",
    "    def CtoF (self):\n",
    "        if self.__degree == 2:\n",
    "            return round((self.__temp * 1.8) + 32, 2)\n",
    "\n",
    "    \n",
    "test1 = Temp(2,29)\n",
    "\n",
    "\n",
    "test1.FtoC()\n",
    "\n",
    "# test2 = Temp(2,59)\n",
    "\n",
    "# test2.CtoF()"
   ]
  },
  {
   "cell_type": "code",
   "execution_count": null,
   "metadata": {},
   "outputs": [],
   "source": [
    "def display_menu():\n",
    "    print(\"MENU\")\n",
    "    print(\"Fahrenheit to Celsius\")\n",
    "    print(\"Celsius to Fahrenheit\")\n",
    "    print(\"Quit\")\n",
    "    \n",
    "while True:\n",
    "    display_menu()\n",
    "    command = input(\"Command: \")\n",
    "    \n",
    "    if command == \"Fahrenheit to Celsius\":\n",
    "        degree = 1\n",
    "        temp = int(input(\"Tempurature: \"))\n",
    "        test = Temp(degree,temp)\n",
    "        print(test.FtoC())\n",
    "        break\n",
    "    elif command == \"Celsius to Fahrenheit\":\n",
    "        degree = 2\n",
    "        temp = int(input(\"Tempurature: \"))\n",
    "        test = Temp(degree,temp)\n",
    "        print(test.CtoF())\n",
    "        break\n",
    "    elif command == \"Quit\":\n",
    "        break"
   ]
  },
  {
   "cell_type": "code",
   "execution_count": null,
   "metadata": {},
   "outputs": [
    {
     "name": "stdout",
     "output_type": "stream",
     "text": [
      "Menu (Please enter one of the options below)\n",
      "\n",
      "1. Fahr to Celsius\n",
      "2. Fahr to Celsius\n",
      "3. Quit\n",
      "-->1\n",
      "Please enter in degrees Fahrenheit: 23\n",
      "23.0 degrees F is -16.2 celsius\n",
      "Menu (Please enter one of the options below)\n",
      "\n",
      "1. Fahr to Celsius\n",
      "2. Fahr to Celsius\n",
      "3. Quit\n"
     ]
    }
   ],
   "source": [
    "#teacher version \n",
    "\n",
    "class Tempurature:\n",
    "    def __init__(self):\n",
    "        self.__celsius = 0.0\n",
    "        self.__fahr = 0.0\n",
    "    def set_celsius(self, celsius):\n",
    "        self.__celsius = celsius\n",
    "        self.__fahr = (celsius *( 9/5)) + 32\n",
    "    def set_fahr(self, fahr):\n",
    "        self.__fahr = fahr\n",
    "        self.__celsius = (fahr -32) * (9/5)\n",
    "    def get_celsius(self):\n",
    "        return round(self.__celsius,2)\n",
    "    def get_fahr(self):\n",
    "        return round(self.__fahr,2)\n",
    "    \n",
    "    \n",
    "def menu():\n",
    "    print(\"Menu (Please enter one of the options below)\\n\")\n",
    "    print(\"1. Fahr to Celsius\")\n",
    "    print(\"2. Fahr to Celsius\")\n",
    "    print(\"3. Quit\")\n",
    "    \n",
    "again = True \n",
    "\n",
    "temp_calc = Tempurature()\n",
    "\n",
    "\n",
    "#keeps user from inputting string for menu option and breaking code\n",
    "while again:\n",
    "    menu()\n",
    "    try:\n",
    "        choice = input(\"-->\")\n",
    "        choice = int(choice)\n",
    "    except:\n",
    "        print(\"Please enter 1, 2, or 3\")\n",
    "        \n",
    "    if choice == 1:\n",
    "        fahr = float(input(\"Please enter in degrees Fahrenheit: \"))\n",
    "        temp_calc.set_fahr(fahr)\n",
    "        print(f\"{temp_calc.get_fahr()} degrees F is {temp_calc.get_celsius()} celsius\")\n",
    "\n",
    "    if choice == 2:\n",
    "        fahr = float(input(\"Please enter in degrees Celsius: \"))\n",
    "        temp_calc.set_celsius(celsius)\n",
    "        print(f\"{temp_calc.get_celsius()} degrees F is {temp_calc.get_fahr()} farenheit\")\n",
    "   \n",
    "    elif choice == 3:\n",
    "        again = False\n",
    "        #how to break/end the program\n",
    "    else:\n",
    "        continue\n",
    "        #continue pushes iteration to next run of while loop - in this case it will bring you back to the menu"
   ]
  },
  {
   "cell_type": "code",
   "execution_count": null,
   "metadata": {},
   "outputs": [],
   "source": [
    "\n",
    "        "
   ]
  },
  {
   "cell_type": "markdown",
   "metadata": {},
   "source": [
    "## Exercise 2: \n",
    "Create a <b>Privileges</b> class that has privileges, a private attribute. It can store a list of strings such as \"can add\", \"can delete\", and \"can modify\".  Write a method called show_privileges(). \n",
    "\n",
    "Create a class called <b>Admin</b> that inherits from the <b>Person</b> class (see next cell). Make a Privileges instance as an attribute in the Admin class. Create a new instance of Admin and use your method to show its privileges.\n"
   ]
  },
  {
   "cell_type": "code",
   "execution_count": 9,
   "metadata": {},
   "outputs": [],
   "source": [
    "class Person :\n",
    "    \n",
    "    def __init__(self, name, age, gender) :\n",
    "        self.__name = name\n",
    "        self.__age = age\n",
    "        self.__gender = gender\n",
    "\n",
    "    def get_name(self) :\n",
    "        return self.__name\n",
    "    \n",
    "    def get_info(self) :\n",
    "        return f\"Name: {self.__name}\\n Age: {self.__age}\\n Gender: {self.__gender}\"\n",
    "       "
   ]
  },
  {
   "cell_type": "code",
   "execution_count": 21,
   "metadata": {},
   "outputs": [],
   "source": [
    "class Privileges:\n",
    "    def __init__(self):\n",
    "        self__.privileges = []\n",
    "        #create an empty list to store privileges \n",
    "    def add_privilege(self, priv):\n",
    "        self.__privileges.append(priv)\n",
    "    def show_privileges(self):\n",
    "        msg = \"\"\n",
    "        for priv in self.privileges:\n",
    "            msg += \"-\" + priv\n",
    "            msg += \"\\n\"\n",
    "        return msg\n",
    "    \n",
    "#return statements stop a function. need to make sure that your return is outside of your for loop. "
   ]
  },
  {
   "cell_type": "code",
   "execution_count": 22,
   "metadata": {},
   "outputs": [],
   "source": [
    "class Admin(Person):\n",
    "    def __init__ (self, name, age, gender):\n",
    "        super().__init__(name,age,gender)\n",
    "        self.privileges = Privileges()\n",
    "        #admin HAS a privileges() object inside of it\n",
    "    def add_privilege(self,priv):\n",
    "        self.privilege.add_privilege(priv)\n",
    "        "
   ]
  },
  {
   "cell_type": "code",
   "execution_count": 23,
   "metadata": {},
   "outputs": [
    {
     "ename": "AttributeError",
     "evalue": "'Admin' object has no attribute 'privilege'",
     "output_type": "error",
     "traceback": [
      "\u001b[0;31m---------------------------------------------------------------------------\u001b[0m",
      "\u001b[0;31mAttributeError\u001b[0m                            Traceback (most recent call last)",
      "\u001b[0;32m<ipython-input-23-9cc62bf7b450>\u001b[0m in \u001b[0;36m<module>\u001b[0;34m\u001b[0m\n\u001b[1;32m      1\u001b[0m \u001b[0madmin\u001b[0m \u001b[0;34m=\u001b[0m \u001b[0mAdmin\u001b[0m\u001b[0;34m(\u001b[0m\u001b[0;34m\"Bryant\"\u001b[0m\u001b[0;34m,\u001b[0m\u001b[0;36m32\u001b[0m\u001b[0;34m,\u001b[0m\u001b[0;34m\"M\"\u001b[0m\u001b[0;34m)\u001b[0m\u001b[0;34m\u001b[0m\u001b[0;34m\u001b[0m\u001b[0m\n\u001b[1;32m      2\u001b[0m \u001b[0;34m\u001b[0m\u001b[0m\n\u001b[0;32m----> 3\u001b[0;31m \u001b[0madmin\u001b[0m\u001b[0;34m.\u001b[0m\u001b[0madd_privilege\u001b[0m\u001b[0;34m(\u001b[0m\u001b[0;34m\"can add\"\u001b[0m\u001b[0;34m)\u001b[0m\u001b[0;34m\u001b[0m\u001b[0;34m\u001b[0m\u001b[0m\n\u001b[0m",
      "\u001b[0;32m<ipython-input-22-c7252c42d217>\u001b[0m in \u001b[0;36madd_privilege\u001b[0;34m(self, priv)\u001b[0m\n\u001b[1;32m      5\u001b[0m         \u001b[0;31m#admin HAS a privileges() object inside of it\u001b[0m\u001b[0;34m\u001b[0m\u001b[0;34m\u001b[0m\u001b[0;34m\u001b[0m\u001b[0m\n\u001b[1;32m      6\u001b[0m     \u001b[0;32mdef\u001b[0m \u001b[0madd_privilege\u001b[0m\u001b[0;34m(\u001b[0m\u001b[0mself\u001b[0m\u001b[0;34m,\u001b[0m\u001b[0mpriv\u001b[0m\u001b[0;34m)\u001b[0m\u001b[0;34m:\u001b[0m\u001b[0;34m\u001b[0m\u001b[0;34m\u001b[0m\u001b[0m\n\u001b[0;32m----> 7\u001b[0;31m         \u001b[0mself\u001b[0m\u001b[0;34m.\u001b[0m\u001b[0mprivilege\u001b[0m\u001b[0;34m.\u001b[0m\u001b[0madd_privilege\u001b[0m\u001b[0;34m(\u001b[0m\u001b[0mpriv\u001b[0m\u001b[0;34m)\u001b[0m\u001b[0;34m\u001b[0m\u001b[0;34m\u001b[0m\u001b[0m\n\u001b[0m\u001b[1;32m      8\u001b[0m \u001b[0;34m\u001b[0m\u001b[0m\n",
      "\u001b[0;31mAttributeError\u001b[0m: 'Admin' object has no attribute 'privilege'"
     ]
    }
   ],
   "source": [
    "admin = Admin(\"Bryant\",32,\"M\")\n",
    "\n",
    "admin.add_privilege(\"can add\")"
   ]
  },
  {
   "cell_type": "code",
   "execution_count": null,
   "metadata": {},
   "outputs": [],
   "source": [
    "addy.show_privileges()\n"
   ]
  },
  {
   "cell_type": "markdown",
   "metadata": {},
   "source": [
    "## Exercise 3:\n",
    "1. Use the Product class from next cell\n",
    "2. Add get_description() method to Product class\n",
    "3. Create Book class inherited from the Product class. Add author attribute to the Book class and make modification to get_description() method\n",
    "4. Create Movie class inherited from the Product class. Add year attributes. Add/modify necessary methods"
   ]
  },
  {
   "cell_type": "code",
   "execution_count": 36,
   "metadata": {},
   "outputs": [],
   "source": [
    "# From Day 1 Class Demo\n",
    "class Product : \n",
    "    \"\"\"A simple attempt to model a product.\"\"\"\n",
    "    \n",
    "    def __init__(self, name, price, discount_rate) :\n",
    "        \"\"\"Initialize name, price, and discount_rate attributes\"\"\"\n",
    "        self.name = name\n",
    "        self.price = price\n",
    "        self.discount_rate = discount_rate\n",
    "        \n",
    "        \n",
    "    def get_discount_amount(self) :\n",
    "        \"\"\"Computes a discount calculation\"\"\"\n",
    "        return self.price * self.discount_rate / 100\n",
    "    \n",
    "        \n",
    "    def get_info(self) :\n",
    "        return(f\"Name: {self.name}\\n\" + \n",
    "                f\"Price: {self.price}\\n\" +\n",
    "                f\"Disicount Amount: ${self.get_discount_amount():,.2f}\\n\" +\n",
    "                f\"Discounted Price: ${self.get_sale_price():,.2f}\")\n",
    "    \n",
    "    def get_sale_price(self) :\n",
    "        \"\"\"Calls another method to find a sale price\"\"\"\n",
    "        return self.price - self.get_discount_amount()\n",
    "        \n",
    "    def get_description(self):\n",
    "        return f\"A product called{self.name} sells for {self.price} with a discount rate of {self.discount_rate} and final price of ${self.get_sale_price():,.2f}\"\n",
    "    "
   ]
  },
  {
   "cell_type": "code",
   "execution_count": 40,
   "metadata": {},
   "outputs": [
    {
     "data": {
      "text/plain": [
       "'The Illiad by Homer sells for $24 with a discount rate of 12%'"
      ]
     },
     "execution_count": 40,
     "metadata": {},
     "output_type": "execute_result"
    }
   ],
   "source": [
    "class Book (Product):\n",
    "    def __init__(self, name, author, price, discount_rate):\n",
    "        super().__init__(name, price, discount_rate)\n",
    "        self.author = author\n",
    "    def get_author(self):\n",
    "        return self.author\n",
    "    def get_description(self):\n",
    "        return f\"{self.name} by {self.author} sells for {self.price} with a discount rate of {self.discount_rate}\"\n",
    "\n",
    "    \n",
    "book1 = Book(\"The Illiad\",\"Homer\",\"$24\",\"12%\")\n",
    "book1.get_description()"
   ]
  },
  {
   "cell_type": "code",
   "execution_count": null,
   "metadata": {},
   "outputs": [],
   "source": [
    "# teacher ads ^^^\n",
    "\n",
    "#for the book class, instead of repeating the same formatted string with author add, use the below to import super\n",
    "    def get_description(self):\n",
    "        msg = super().get_description()\n",
    "        msg = msg.replace(\"product\", f\"book by {self.author}\")\n",
    "        return msg"
   ]
  },
  {
   "cell_type": "code",
   "execution_count": 43,
   "metadata": {},
   "outputs": [
    {
     "data": {
      "text/plain": [
       "'Sleepless in Seattle from 1999 sells for $12 with a discount rate of 50%'"
      ]
     },
     "execution_count": 43,
     "metadata": {},
     "output_type": "execute_result"
    }
   ],
   "source": [
    "class Movie (Product):\n",
    "    def __init__(self, name, year, price, discount_rate):\n",
    "        super().__init__( name, price, discount_rate)\n",
    "        self.year = year\n",
    "    def get_year(self):\n",
    "        return self.year\n",
    "    def get_description(self):\n",
    "        return f\"{self.name} from {self.year} sells for {self.price} with a discount rate of {self.discount_rate}\"\n",
    "\n",
    "    \n",
    "movie1 = Movie(\"Sleepless in Seattle\",\"1999\",\"$12\",\"50%\")\n",
    "movie1.get_description()"
   ]
  },
  {
   "cell_type": "code",
   "execution_count": null,
   "metadata": {},
   "outputs": [],
   "source": [
    "# teacher ads ^^^\n",
    "    def get_description(self):\n",
    "        msg = super().get_description()\n",
    "        msg = msg.replace(\"product\", f\"movie from {self.year}\")\n",
    "        return msg"
   ]
  },
  {
   "cell_type": "markdown",
   "metadata": {},
   "source": [
    "## Exercise 4\n",
    "Create a <b>MyDate</b> class with month, day, year, hour, minute, and second <b>private attributes</b>.  Create an initialization method that takes a string in the format of \"mm-dd-yyyy hh:mm:ss\". Also create necessary public methods as needed.  \n",
    "\n",
    "Then, run below program to show your class works:\n",
    "\n",
    "    today = MyDate(\"10-10-2020 12:11:22\")\n",
    "    print(today.get_datetime())\n",
    "    today.set_datetime(\"11-31-1999 02:33:22\")\n",
    "    print(today.get_datetime())\n",
    "    print(today.get_datetime(month_first=False))"
   ]
  },
  {
   "cell_type": "code",
   "execution_count": 57,
   "metadata": {},
   "outputs": [],
   "source": [
    "class MyDate:\n",
    "    def __init__ (self, date):\n",
    "        self.__month = date[0:2]\n",
    "        self.__day = date[3:5]\n",
    "        self.__year = date[6:10]\n",
    "        self.hour = date[11:13]\n",
    "        self.minute = date[14:16]\n",
    "        self.second = date[17:19]\n",
    "    def get_datetime(self,month_first = True):\n",
    "        if month_first == False:\n",
    "            return f\"It's {self.__day}, {self.__month} {self.__year} at {self.hour}:{self.minute} and {self.second} seconds \"\n",
    "        else:\n",
    "            return f\"It's {self.__month} {self.__day}, {self.__year} at {self.hour}:{self.minute} and {self.second} seconds \""
   ]
  },
  {
   "cell_type": "code",
   "execution_count": 58,
   "metadata": {},
   "outputs": [
    {
     "name": "stdout",
     "output_type": "stream",
     "text": [
      "It's 10 10, 2020 at 12:11 and 22 seconds \n",
      "It's 10 10, 2020 at 12:11 and 22 seconds \n",
      "It's 10, 10 2020 at 12:11 and 22 seconds \n"
     ]
    }
   ],
   "source": [
    "# main program\n",
    "today = MyDate(\"10-10-2020 12:11:22\")\n",
    "print(today.get_datetime())\n",
    "print(today.get_datetime())\n",
    "print(today.get_datetime(month_first=False))"
   ]
  },
  {
   "cell_type": "code",
   "execution_count": 26,
   "metadata": {},
   "outputs": [],
   "source": [
    "#teacher version \n",
    "\n",
    "class MyDate:\n",
    "    def __init__ (self, full_date):\n",
    "        date_time = full_date.split(\" \")\n",
    "        date = date_time[0]\n",
    "        time = date_time[1]\n",
    "        \n",
    "        temp_date = date.split(\"-\")\n",
    "        \n",
    "        self.__month = temp_date[0]\n",
    "        self.__day = temp_date[1]\n",
    "        self.__year = temp_date[2]\n",
    "        \n",
    "        temp_time = time.split(\":\")\n",
    "        self.__hour = temp_time[0]\n",
    "        self.__minute = temp_time[1]\n",
    "        self.__second = temp_time[2]\n",
    "    def get_datetime(self,month_first = True):\n",
    "        if month_first:\n",
    "            return f\"{self.__month}-{self.__day}-{self.__year} {self.__hour}:{self.__minute}:{self.__second}\"        \n",
    "        else:\n",
    "            return f\"{self.__day}-{self.__month}-{self.__year} {self.__hour}:{self.__minute}:{self.__second}\"\n",
    "    def set_datetime(self, datetime):\n",
    "        self.__init__(datetime)"
   ]
  },
  {
   "cell_type": "code",
   "execution_count": 27,
   "metadata": {},
   "outputs": [
    {
     "name": "stdout",
     "output_type": "stream",
     "text": [
      "10-10-2020 12:11:22\n",
      "11-31-1999 02:33:22\n",
      "31-11-1999 02:33:22\n"
     ]
    }
   ],
   "source": [
    "today = MyDate(\"10-10-2020 12:11:22\")\n",
    "print(today.get_datetime())\n",
    "today.set_datetime(\"11-31-1999 02:33:22\")\n",
    "print(today.get_datetime())\n",
    "print(today.get_datetime(month_first=False))"
   ]
  },
  {
   "cell_type": "markdown",
   "metadata": {},
   "source": [
    "## Challenge\n",
    "\n",
    "Modify <b>MyDate</b> class: \n",
    "\n",
    "    - to validate date & time (for month, days, hour, minute, and second). \n",
    "    - to add days\n",
    "    - to add hours"
   ]
  },
  {
   "cell_type": "code",
   "execution_count": 120,
   "metadata": {},
   "outputs": [],
   "source": [
    "class MyDate:\n",
    "    def __init__ (self, date):\n",
    "        self.__month = int(date[0:2])\n",
    "        self.__day = int(date[3:5])\n",
    "        self.__year = date[6:10]\n",
    "        self.__hour = int(date[11:13])\n",
    "        self.__minute = date[14:16]\n",
    "        self.__second = date[17:19]\n",
    "    def get_datetime(self,month_first = True):\n",
    "        if month_first == False:\n",
    "            return f\"It's {self.__day}, {self.__month} {self.__year} at {self.__hour}:{self.__minute} and {self.__second} seconds \"\n",
    "        else:\n",
    "            return f\"It's {self.__month} {self.__day}, {self.__year} at {self.__hour}:{self.__minute} and {self.__second} seconds \"\n",
    "    def add_day(self, day):\n",
    "        self.__day += day\n",
    "        return self.__day\n",
    "    def add_hour(self, hour):\n",
    "        self.__hour += hour\n",
    "        return self.__hour"
   ]
  },
  {
   "cell_type": "code",
   "execution_count": 122,
   "metadata": {},
   "outputs": [
    {
     "data": {
      "text/plain": [
       "\"It's 10 10, 2020 at 15:11 and 22 seconds \""
      ]
     },
     "execution_count": 122,
     "metadata": {},
     "output_type": "execute_result"
    }
   ],
   "source": [
    "today = MyDate(\"10-10-2020 12:11:22\")\n",
    "\n",
    "\n",
    "today.add_hour(3)\n",
    "today.get_datetime()"
   ]
  },
  {
   "cell_type": "code",
   "execution_count": 123,
   "metadata": {},
   "outputs": [
    {
     "data": {
      "text/plain": [
       "13"
      ]
     },
     "execution_count": 123,
     "metadata": {},
     "output_type": "execute_result"
    }
   ],
   "source": [
    "today.add_day(3)\n"
   ]
  },
  {
   "cell_type": "code",
   "execution_count": null,
   "metadata": {},
   "outputs": [],
   "source": []
  }
 ],
 "metadata": {
  "kernelspec": {
   "display_name": "Python 3",
   "language": "python",
   "name": "python3"
  },
  "language_info": {
   "codemirror_mode": {
    "name": "ipython",
    "version": 3
   },
   "file_extension": ".py",
   "mimetype": "text/x-python",
   "name": "python",
   "nbconvert_exporter": "python",
   "pygments_lexer": "ipython3",
   "version": "3.8.5"
  }
 },
 "nbformat": 4,
 "nbformat_minor": 4
}
