{
 "cells": [
  {
   "cell_type": "markdown",
   "metadata": {},
   "source": [
    "# OOP - Polymorphism, & Abstraction"
   ]
  },
  {
   "cell_type": "markdown",
   "metadata": {},
   "source": [
    "## Exercise 1: \n",
    "Create an abstract class called Vehicle with \n",
    "- color, make, and year private attributes \n",
    "\n",
    "and abstract method called \n",
    "- get_info() which returns all information\n",
    "- honk() which returns a string of honking sound\n",
    "\n",
    "Create Car, Boat, and Bicycle class which is a child class of the Vehicle class.  Then, create an instance of each child class and call get_info() method to print out its information in a user friendly format. Add other methods as you like."
   ]
  },
  {
   "cell_type": "code",
   "execution_count": 4,
   "metadata": {},
   "outputs": [],
   "source": [
    "from abc import ABC, abstractmethod\n",
    "\n",
    "class Vehicle(ABC):\n",
    "    @abstractmethod\n",
    "    def __init__ (self, color, make, year):\n",
    "        pass\n",
    "    def get_info(self):\n",
    "        pass\n",
    "    def honk(self):\n",
    "        pass\n"
   ]
  },
  {
   "cell_type": "code",
   "execution_count": 8,
   "metadata": {},
   "outputs": [
    {
     "name": "stdout",
     "output_type": "stream",
     "text": [
      "Color: red, Make: VW Beetle, Year: 1993\n",
      "Color: blue, Make: sailboat, Year: 2001\n",
      "Color: yellow, Make: huffy, Year: 2018\n",
      "beep beep so let's ride\n",
      "HOOOOOOOOOOOOOOONK\n",
      "ring ring :3c\n"
     ]
    }
   ],
   "source": [
    "class Car(Vehicle):\n",
    "    def __init__ (self, color, make, year):\n",
    "        self.__color = color\n",
    "        self.__make = make\n",
    "        self.__year = year\n",
    "    def get_info(self):\n",
    "        return f\"Color: {self.__color}, Make: {self.__make}, Year: {self.__year}\"\n",
    "    def honk(self):\n",
    "        return \"beep beep so let's ride\"\n",
    "\n",
    "class Boat(Vehicle):\n",
    "    def __init__ (self, color, make, year):\n",
    "        self.__color = color\n",
    "        self.__make = make\n",
    "        self.__year = year\n",
    "    def get_info(self):\n",
    "        return f\"Color: {self.__color}, Make: {self.__make}, Year: {self.__year}\"\n",
    "    def honk(self):\n",
    "        return \"HOOOOOOOOOOOOOOONK\"\n",
    "\n",
    "class Bicycle(Vehicle):\n",
    "    def __init__ (self, color, make, year):\n",
    "        self.__color = color\n",
    "        self.__make = make\n",
    "        self.__year = year\n",
    "    def get_info(self):\n",
    "        return f\"Color: {self.__color}, Make: {self.__make}, Year: {self.__year}\"\n",
    "    def honk(self):\n",
    "        return \"ring ring ring ring ring ring ring\"\n",
    "    \n",
    "\n",
    "car1 = Car(\"red\",\"VW Beetle\", 1993)\n",
    "\n",
    "boat1 = Boat(\"blue\",\"sailboat\",2001)\n",
    "\n",
    "bicycle1 = Bicycle(\"yellow\",\"huffy\", 2018)\n",
    "\n",
    "my_objects = [car1, boat1, bicycle1]\n",
    "\n",
    "for obj in my_objects:\n",
    "    print(obj.get_info())\n",
    "\n",
    "for obj in my_objects:\n",
    "    print(obj.honk())\n",
    "\n"
   ]
  },
  {
   "cell_type": "code",
   "execution_count": null,
   "metadata": {},
   "outputs": [],
   "source": []
  },
  {
   "cell_type": "markdown",
   "metadata": {},
   "source": [
    "## Exercise 2: \n",
    "Create an abstract class called Person with name and address attributes, and print_info() abstract method. \n",
    "1. Build an Employee class inherited from Person class that \n",
    "    - stores hired date and salary attributes \n",
    "    - print_info() method that will be used to print out all information about an employee\n",
    "    - a method to calculate employee's monthly pay where federal tax is 15%, MD tax is 4.5%, and a local tax is 3%.\n",
    "    \n",
    "2. Build a Customer class also inherited from Person class that\n",
    "    - stores balance attribute\n",
    "    - print_info() method that will be used to print out all information about a customer\n",
    "\n",
    "\n",
    "Build any method you need but apply encapsulation at all possible. Then, write a program to show your classes work with multiple employees and customers. \n",
    "\n",
    "CHALLENGE!!!\n",
    "Create an Address class and use it in Person class"
   ]
  },
  {
   "cell_type": "code",
   "execution_count": 33,
   "metadata": {},
   "outputs": [
    {
     "name": "stdout",
     "output_type": "stream",
     "text": [
      "Employee's Name: Roger Smith, Address: 1323 Ferdard Lane, Date Hired: 10/1/2008, Salary: $59000\n",
      "Employee's Name: Jant Feord, Address: 12 Wallaby Road, Date Hired: 1/3/2019, Salary: $120000\n",
      "13275.0\n",
      "27000.0\n",
      "Customer's Name: Al Alaj, Address: Feywilds Ct, Balance: $-123\n",
      "Customer's Name: Ophelia Dragoneye, Address: 12 Osian Ct, Balance: $10000\n"
     ]
    }
   ],
   "source": [
    "class Address:\n",
    "    def __init__(self):\n",
    "        self.address = None\n",
    "    def add_address(self, address):\n",
    "        self.address = address\n",
    "        return\n",
    "\n",
    "\n",
    "from abc import ABC, abstractmethod\n",
    "\n",
    "class Person(ABC):\n",
    "    def __init__ (self, name, address):\n",
    "        pass\n",
    "    def print_info(self):\n",
    "        pass\n",
    "    def add_address(self):\n",
    "        pass\n",
    "    \n",
    "class Employee(Person):\n",
    "    def __init__(self, name, hired_date, salary):\n",
    "        self.name = name\n",
    "        self.address = Address()\n",
    "        self.__hired_date = hired_date\n",
    "        self.__salary = salary\n",
    "    def print_info(self):\n",
    "        return f\"Employee's Name: {self.name}, Address: {self.address}, Date Hired: {self.__hired_date}, Salary: ${self.__salary}\"\n",
    "    def salary_tax(self):\n",
    "        return (self.__salary * (.15)) + (self.__salary * (.045)) + (self.__salary * (.03))\n",
    "    def add_address(self, address):\n",
    "        self.address = address\n",
    "        return self.address\n",
    "\n",
    "class Customer(Person):\n",
    "    def __init__(self, name, balance):\n",
    "        self.name = name\n",
    "        self.address = Address()\n",
    "        self.__balance = balance\n",
    "    def print_info(self):\n",
    "        return f\"Customer's Name: {self.name}, Address: {self.address}, Balance: ${self.__balance}\"\n",
    "    def add_address(self, address):\n",
    "        self.address = address\n",
    "        return self.address \n",
    "    \n",
    "\n",
    "    \n",
    "emp1 = Employee(\"Roger Smith\", \"10/1/2008\", 59000)\n",
    "emp1.add_address(\"1323 Ferdard Lane\")\n",
    "\n",
    "emp2 = Employee(\"Jant Feord\", \"1/3/2019\", 120000)\n",
    "emp2.add_address(\"12 Wallaby Road\")\n",
    "cust1 = Customer(\"Al Alaj\", -123)\n",
    "cust1.add_address(\"Feywilds Ct\")\n",
    "cust2 = Customer(\"Ophelia Dragoneye\", 10000)\n",
    "cust2.add_address(\"12 Osian Ct\")\n",
    "\n",
    "print(emp1.print_info())\n",
    "print(emp2.print_info())\n",
    "\n",
    "print(emp1.salary_tax())\n",
    "print(emp2.salary_tax())\n",
    "\n",
    "print(cust1.print_info())\n",
    "print(cust2.print_info())"
   ]
  },
  {
   "cell_type": "code",
   "execution_count": null,
   "metadata": {},
   "outputs": [],
   "source": []
  },
  {
   "cell_type": "code",
   "execution_count": null,
   "metadata": {},
   "outputs": [],
   "source": []
  }
 ],
 "metadata": {
  "kernelspec": {
   "display_name": "Python 3",
   "language": "python",
   "name": "python3"
  },
  "language_info": {
   "codemirror_mode": {
    "name": "ipython",
    "version": 3
   },
   "file_extension": ".py",
   "mimetype": "text/x-python",
   "name": "python",
   "nbconvert_exporter": "python",
   "pygments_lexer": "ipython3",
   "version": "3.8.5"
  }
 },
 "nbformat": 4,
 "nbformat_minor": 4
}
